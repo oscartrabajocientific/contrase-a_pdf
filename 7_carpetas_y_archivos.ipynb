{
  "nbformat": 4,
  "nbformat_minor": 0,
  "metadata": {
    "colab": {
      "provenance": [],
      "mount_file_id": "1ivdfVG4vPkSG9VA8TTGgrktwg-vOdLs_",
      "authorship_tag": "ABX9TyP02QIzMTmiPiWTRp4UpI0P",
      "include_colab_link": true
    },
    "kernelspec": {
      "name": "python3",
      "display_name": "Python 3"
    },
    "language_info": {
      "name": "python"
    }
  },
  "cells": [
    {
      "cell_type": "markdown",
      "metadata": {
        "id": "view-in-github",
        "colab_type": "text"
      },
      "source": [
        "<a href=\"https://colab.research.google.com/github/oscartrabajocientific/contrase-a_pdf/blob/main/7_carpetas_y_archivos.ipynb\" target=\"_parent\"><img src=\"https://colab.research.google.com/assets/colab-badge.svg\" alt=\"Open In Colab\"/></a>"
      ]
    },
    {
      "cell_type": "code",
      "execution_count": null,
      "metadata": {
        "colab": {
          "base_uri": "https://localhost:8080/"
        },
        "id": "tPxtt8MHUFbc",
        "outputId": "922f096b-5e40-434d-b23f-c7cbbbac5108"
      },
      "outputs": [
        {
          "output_type": "stream",
          "name": "stdout",
          "text": [
            "Contraseña establecida para: certificado_34787_Jefferson Darwin.pdf\n",
            "Contraseña establecida para: certificado_52177_Sara Sofía .pdf\n",
            "Contraseña establecida para: certificado_31262_Jose Alejandro .pdf\n",
            "Contraseña establecida para: certificado_37191_NICOLÁS DAVID .pdf\n",
            "Contraseña establecida para: certificado_31079_Santiago.pdf\n",
            "Contraseña establecida para: certificado_41731_Erick .pdf\n",
            "Contraseña establecida para: certificado_35319_Karen Sofia .pdf\n",
            "Contraseña establecida para: certificado_34147_Jorge Esteban.pdf\n",
            "Contraseña establecida para: certificado_53647_Juan Andres .pdf\n",
            "Contraseña establecida para: certificado_30391_Jonathan Eduardo.pdf\n",
            "Contraseña establecida para: certificado_41379_Lincon Steven.pdf\n",
            "Contraseña establecida para: certificado_53418_David Santiago  .pdf\n",
            "Contraseña establecida para: certificado_37658_Sebastian Camilo .pdf\n",
            "Contraseña establecida para: certificado_40242_Danna Gabriela .pdf\n",
            "Contraseña establecida para: certificado_42286_Jonathan Eduardo .pdf\n",
            "Contraseña establecida para: certificado_40006_Vivián Angélica .pdf\n",
            "Contraseña establecida para: certificado_39565_LAURA SOFIA .pdf\n",
            "Contraseña establecida para: certificado_39046_CARLOS GIOVANNI.pdf\n",
            "Contraseña establecida para: certificado_48977_KEVIN ALEXANDER .pdf\n",
            "Contraseña establecida para: certificado_53906_Paula Daniela.pdf\n",
            "Contraseña establecida para: certificado_43617_Natalia Valentina .pdf\n",
            "Contraseña establecida para: certificado_32441_Diego Alejandro.pdf\n",
            "Contraseña establecida para: certificado_51982_Juan David.pdf\n",
            "Contraseña establecida para: certificado_53365_Joserph Julian .pdf\n",
            "Contraseña establecida para: certificado_38696_Laura Valentina .pdf\n",
            "Contraseña establecida para: certificado_44034_Jazbleidy Tatiana .pdf\n",
            "Contraseña establecida para: certificado_51671_Alessandra Cristina.pdf\n",
            "Contraseña establecida para: certificado_37711_Alessandra Cristina.pdf\n"
          ]
        }
      ],
      "source": [
        "import pikepdf\n",
        "import os\n",
        "import shutil\n",
        "\n",
        "password = \"12345\"\n",
        "pdf_folder = \"/content/drive/MyDrive/CURSO-AUTOMATIZACIÓN/2_gestión_archivos_carpetas/estudiantes_semilleros/certificados/PDF\"\n",
        "\n",
        "for filename in os.listdir(pdf_folder):\n",
        "    if filename.endswith(\".pdf\"):\n",
        "        filepath = os.path.join(pdf_folder, filename)\n",
        "        try:\n",
        "            # Método 1: Usando el parámetro allow_overwriting_input\n",
        "            with pikepdf.open(filepath, allow_overwriting_input=True) as pdf:\n",
        "                pdf.save(filepath, encryption=pikepdf.Encryption(owner=password, user=password, R=4))\n",
        "\n",
        "            # Método alternativo 2: Usando un archivo temporal\n",
        "            # temp_output = filepath + \".temp\"\n",
        "            # with pikepdf.open(filepath) as pdf:\n",
        "            #     pdf.save(temp_output, encryption=pikepdf.Encryption(owner=password, user=password, R=4))\n",
        "            # shutil.move(temp_output, filepath)\n",
        "\n",
        "            print(f\"Contraseña establecida para: {filename}\")\n",
        "        except Exception as e:\n",
        "            print(f\"Error al procesar {filename}: {e}\")\n"
      ]
    }
  ]
}